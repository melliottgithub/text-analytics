{
 "cells": [
  {
   "cell_type": "code",
   "execution_count": null,
   "metadata": {},
   "outputs": [],
   "source": [
    "import pickle\n",
    "import pandas as pd\n",
    "from sklearn.pipeline import Pipeline\n",
    "from sklearn.feature_extraction.text import CountVectorizer\n",
    "from sklearn.feature_extraction.text import TfidfTransformer"
   ]
  },
  {
   "cell_type": "code",
   "execution_count": null,
   "metadata": {},
   "outputs": [],
   "source": [
    "import os\n",
    "def create_directory(path):\n",
    "    if not os.path.exists(path):\n",
    "        os.makedirs(path)"
   ]
  },
  {
   "cell_type": "markdown",
   "metadata": {},
   "source": [
    "## Load data frames (created by preprocess.py)"
   ]
  },
  {
   "cell_type": "code",
   "execution_count": null,
   "metadata": {},
   "outputs": [],
   "source": [
    "df_train = pd.read_pickle('./text/newsgroups/train.pkl')\n",
    "df_test = pd.read_pickle('./text/newsgroups/test.pkl')\n",
    "print(df_train.shape)\n",
    "print(df_test.shape)\n",
    "df = pd.concat([df_train, df_test], axis=0)\n",
    "print(df.shape)"
   ]
  },
  {
   "cell_type": "markdown",
   "metadata": {},
   "source": [
    "## Create a corpus on entire dataset"
   ]
  },
  {
   "cell_type": "code",
   "execution_count": null,
   "metadata": {},
   "outputs": [],
   "source": [
    "corpus = df['tokens'].map(lambda x: ' '.join(x))"
   ]
  },
  {
   "cell_type": "markdown",
   "metadata": {},
   "source": [
    "## Create Transformers with different vocabulary sizes"
   ]
  },
  {
   "cell_type": "code",
   "execution_count": null,
   "metadata": {},
   "outputs": [],
   "source": [
    "VOCABULARY_SIZES = [35000, 70000, 100000, None]\n",
    "\n",
    "create_directory('./models')"
   ]
  },
  {
   "cell_type": "code",
   "execution_count": null,
   "metadata": {},
   "outputs": [],
   "source": [
    "def create_tfid_transformer(countVectorizer, corpus):\n",
    "    transformer = Pipeline([\n",
    "        ('count', countVectorizer),\n",
    "        ('tfid', TfidfTransformer())\n",
    "    ])\n",
    "\n",
    "    transformer.fit(corpus)\n",
    "    return transformer"
   ]
  },
  {
   "cell_type": "code",
   "execution_count": null,
   "metadata": {},
   "outputs": [],
   "source": [
    "for vocab_size in VOCABULARY_SIZES:\n",
    "    countVectorizer = CountVectorizer(lowercase=False, token_pattern='\\S+', max_features=vocab_size)\n",
    "    countVectorizer.fit(corpus)\n",
    "    vocabulary = countVectorizer.vocabulary_\n",
    "    \n",
    "    suffix = 'full' if vocab_size is None else str(vocab_size)\n",
    "\n",
    "    transformer = create_tfid_transformer(countVectorizer, corpus)\n",
    "    \n",
    "    file_name = './models/tfidf_transformer_{}.pkl'.format(suffix)\n",
    "    with open(file_name, 'wb') as f:\n",
    "        pickle.dump(transformer, f, protocol=pickle.HIGHEST_PROTOCOL)\n",
    "        print(file_name)"
   ]
  },
  {
   "cell_type": "markdown",
   "metadata": {},
   "source": [
    "## Create Transformers with trimmed vocabulary"
   ]
  },
  {
   "cell_type": "code",
   "execution_count": null,
   "metadata": {},
   "outputs": [],
   "source": [
    "countVectorizer = CountVectorizer(max_df=0.9, min_df=0.0005, lowercase=False, token_pattern='\\S+', max_features=None)\n",
    "countVectorizer.fit(corpus)\n",
    "vocabulary = countVectorizer.vocabulary_\n",
    "\n",
    "suffix = 'trim'\n",
    "\n",
    "transformer = create_tfid_transformer(countVectorizer, corpus)\n",
    "\n",
    "file_name = './models/tfidf_transformer_{}.pkl'.format(suffix)\n",
    "with open(file_name, 'wb') as f:\n",
    "    pickle.dump(transformer, f, protocol=pickle.HIGHEST_PROTOCOL)\n",
    "    print(file_name)"
   ]
  }
 ],
 "metadata": {
  "kernelspec": {
   "display_name": "nlp-course",
   "language": "python",
   "name": "python3"
  },
  "language_info": {
   "codemirror_mode": {
    "name": "ipython",
    "version": 3
   },
   "file_extension": ".py",
   "mimetype": "text/x-python",
   "name": "python",
   "nbconvert_exporter": "python",
   "pygments_lexer": "ipython3",
   "version": "3.11.6"
  }
 },
 "nbformat": 4,
 "nbformat_minor": 2
}
