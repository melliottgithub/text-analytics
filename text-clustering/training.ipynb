{
 "cells": [
  {
   "cell_type": "code",
   "execution_count": 13,
   "metadata": {},
   "outputs": [],
   "source": [
    "from time import time\n",
    "from sklearn.cluster import KMeans\n",
    "from file_utils import read_from_pickle, save_to_pickle"
   ]
  },
  {
   "cell_type": "markdown",
   "metadata": {},
   "source": [
    "## Change log\n",
    "-"
   ]
  },
  {
   "cell_type": "markdown",
   "metadata": {},
   "source": [
    "## Use N-cluster previously selected"
   ]
  },
  {
   "cell_type": "code",
   "execution_count": 14,
   "metadata": {},
   "outputs": [],
   "source": [
    "MODEL_DIR = './models/vaccination_tweets'\n",
    "RANDOM_STATE = 42\n",
    "\n",
    "N_CLUSTERS = 3"
   ]
  },
  {
   "cell_type": "markdown",
   "metadata": {},
   "source": [
    "## Fit models with various training sizes"
   ]
  },
  {
   "cell_type": "code",
   "execution_count": 15,
   "metadata": {},
   "outputs": [
    {
     "name": "stdout",
     "output_type": "stream",
     "text": [
      "n_clusters 3 training size: 60 - 1.21 secs\n",
      "./models/vaccination_tweets/kmeans-60.pkl\n",
      "n_clusters 3 training size: 80 - 2.47 secs\n",
      "./models/vaccination_tweets/kmeans-80.pkl\n",
      "n_clusters 3 training size: full - 2.97 secs\n",
      "./models/vaccination_tweets/kmeans-full.pkl\n"
     ]
    }
   ],
   "source": [
    "# previously selected best hyper-parameters\n",
    "params = {'algorithm': 'lloyd', 'n_init': 1, 'random_state': RANDOM_STATE, 'tol': 5e-06}\n",
    "\n",
    "for traiing_size in [60, 80, 'full']:\n",
    "    X_train = read_from_pickle('{}/train-{}.pkl'.format(MODEL_DIR, traiing_size))\n",
    "    start_time = time()\n",
    "    kmeans = KMeans(n_clusters=N_CLUSTERS, **params)\n",
    "    kmeans.fit(X_train)\n",
    "    duration = time() - start_time\n",
    "\n",
    "    print('n_clusters {} training size: {} - {:.2f} secs'.format(N_CLUSTERS, traiing_size, duration))\n",
    "    file_name = '{}/kmeans-{}.pkl'.format(MODEL_DIR, traiing_size)\n",
    "    save_to_pickle(file_name, kmeans)\n",
    "    print(file_name)"
   ]
  }
 ],
 "metadata": {
  "kernelspec": {
   "display_name": "nlp-course",
   "language": "python",
   "name": "python3"
  },
  "language_info": {
   "codemirror_mode": {
    "name": "ipython",
    "version": 3
   },
   "file_extension": ".py",
   "mimetype": "text/x-python",
   "name": "python",
   "nbconvert_exporter": "python",
   "pygments_lexer": "ipython3",
   "version": "3.11.5"
  }
 },
 "nbformat": 4,
 "nbformat_minor": 2
}
